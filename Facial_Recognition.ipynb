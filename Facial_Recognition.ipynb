{
 "cells": [
  {
   "cell_type": "markdown",
   "id": "bdc6ab2c",
   "metadata": {},
   "source": [
    "## Facial Recogination APP by Siemese Neural Network"
   ]
  },
  {
   "cell_type": "markdown",
   "id": "ddbea2b0",
   "metadata": {},
   "source": [
    "### Import dependecies"
   ]
  },
  {
   "cell_type": "code",
   "execution_count": 13,
   "id": "dc652c1e",
   "metadata": {
    "collapsed": true
   },
   "outputs": [
    {
     "name": "stdout",
     "output_type": "stream",
     "text": [
      "Defaulting to user installation because normal site-packages is not writeable\n",
      "Requirement already satisfied: tensorflow in c:\\users\\hp\\appdata\\roaming\\python\\python311\\site-packages (2.15.0)\n",
      "Requirement already satisfied: tensorflow-intel==2.15.0 in c:\\users\\hp\\appdata\\roaming\\python\\python311\\site-packages (from tensorflow) (2.15.0)\n",
      "Requirement already satisfied: absl-py>=1.0.0 in c:\\users\\hp\\appdata\\roaming\\python\\python311\\site-packages (from tensorflow-intel==2.15.0->tensorflow) (2.0.0)\n",
      "Requirement already satisfied: astunparse>=1.6.0 in c:\\users\\hp\\appdata\\roaming\\python\\python311\\site-packages (from tensorflow-intel==2.15.0->tensorflow) (1.6.3)\n",
      "Requirement already satisfied: flatbuffers>=23.5.26 in c:\\users\\hp\\appdata\\roaming\\python\\python311\\site-packages (from tensorflow-intel==2.15.0->tensorflow) (23.5.26)\n",
      "Requirement already satisfied: gast!=0.5.0,!=0.5.1,!=0.5.2,>=0.2.1 in c:\\users\\hp\\appdata\\roaming\\python\\python311\\site-packages (from tensorflow-intel==2.15.0->tensorflow) (0.5.4)\n",
      "Requirement already satisfied: google-pasta>=0.1.1 in c:\\users\\hp\\appdata\\roaming\\python\\python311\\site-packages (from tensorflow-intel==2.15.0->tensorflow) (0.2.0)\n",
      "Requirement already satisfied: h5py>=2.9.0 in c:\\programdata\\anaconda3\\lib\\site-packages (from tensorflow-intel==2.15.0->tensorflow) (3.7.0)\n",
      "Requirement already satisfied: libclang>=13.0.0 in c:\\users\\hp\\appdata\\roaming\\python\\python311\\site-packages (from tensorflow-intel==2.15.0->tensorflow) (16.0.6)\n",
      "Requirement already satisfied: ml-dtypes~=0.2.0 in c:\\users\\hp\\appdata\\roaming\\python\\python311\\site-packages (from tensorflow-intel==2.15.0->tensorflow) (0.2.0)\n",
      "Requirement already satisfied: numpy<2.0.0,>=1.23.5 in c:\\programdata\\anaconda3\\lib\\site-packages (from tensorflow-intel==2.15.0->tensorflow) (1.24.3)\n",
      "Requirement already satisfied: opt-einsum>=2.3.2 in c:\\users\\hp\\appdata\\roaming\\python\\python311\\site-packages (from tensorflow-intel==2.15.0->tensorflow) (3.3.0)\n",
      "Requirement already satisfied: packaging in c:\\programdata\\anaconda3\\lib\\site-packages (from tensorflow-intel==2.15.0->tensorflow) (23.0)\n",
      "Requirement already satisfied: protobuf!=4.21.0,!=4.21.1,!=4.21.2,!=4.21.3,!=4.21.4,!=4.21.5,<5.0.0dev,>=3.20.3 in c:\\users\\hp\\appdata\\roaming\\python\\python311\\site-packages (from tensorflow-intel==2.15.0->tensorflow) (4.23.4)\n",
      "Requirement already satisfied: setuptools in c:\\programdata\\anaconda3\\lib\\site-packages (from tensorflow-intel==2.15.0->tensorflow) (67.8.0)\n",
      "Requirement already satisfied: six>=1.12.0 in c:\\programdata\\anaconda3\\lib\\site-packages (from tensorflow-intel==2.15.0->tensorflow) (1.16.0)\n",
      "Requirement already satisfied: termcolor>=1.1.0 in c:\\users\\hp\\appdata\\roaming\\python\\python311\\site-packages (from tensorflow-intel==2.15.0->tensorflow) (2.4.0)\n",
      "Requirement already satisfied: typing-extensions>=3.6.6 in c:\\programdata\\anaconda3\\lib\\site-packages (from tensorflow-intel==2.15.0->tensorflow) (4.6.3)\n",
      "Requirement already satisfied: wrapt<1.15,>=1.11.0 in c:\\programdata\\anaconda3\\lib\\site-packages (from tensorflow-intel==2.15.0->tensorflow) (1.14.1)\n",
      "Requirement already satisfied: tensorflow-io-gcs-filesystem>=0.23.1 in c:\\users\\hp\\appdata\\roaming\\python\\python311\\site-packages (from tensorflow-intel==2.15.0->tensorflow) (0.31.0)\n",
      "Requirement already satisfied: grpcio<2.0,>=1.24.3 in c:\\users\\hp\\appdata\\roaming\\python\\python311\\site-packages (from tensorflow-intel==2.15.0->tensorflow) (1.60.0)\n",
      "Requirement already satisfied: tensorboard<2.16,>=2.15 in c:\\users\\hp\\appdata\\roaming\\python\\python311\\site-packages (from tensorflow-intel==2.15.0->tensorflow) (2.15.1)\n",
      "Requirement already satisfied: tensorflow-estimator<2.16,>=2.15.0 in c:\\users\\hp\\appdata\\roaming\\python\\python311\\site-packages (from tensorflow-intel==2.15.0->tensorflow) (2.15.0)\n",
      "Requirement already satisfied: keras<2.16,>=2.15.0 in c:\\users\\hp\\appdata\\roaming\\python\\python311\\site-packages (from tensorflow-intel==2.15.0->tensorflow) (2.15.0)\n",
      "Requirement already satisfied: wheel<1.0,>=0.23.0 in c:\\programdata\\anaconda3\\lib\\site-packages (from astunparse>=1.6.0->tensorflow-intel==2.15.0->tensorflow) (0.38.4)\n",
      "Requirement already satisfied: google-auth<3,>=1.6.3 in c:\\users\\hp\\appdata\\roaming\\python\\python311\\site-packages (from tensorboard<2.16,>=2.15->tensorflow-intel==2.15.0->tensorflow) (2.25.2)\n",
      "Requirement already satisfied: google-auth-oauthlib<2,>=0.5 in c:\\users\\hp\\appdata\\roaming\\python\\python311\\site-packages (from tensorboard<2.16,>=2.15->tensorflow-intel==2.15.0->tensorflow) (1.2.0)\n",
      "Requirement already satisfied: markdown>=2.6.8 in c:\\programdata\\anaconda3\\lib\\site-packages (from tensorboard<2.16,>=2.15->tensorflow-intel==2.15.0->tensorflow) (3.4.1)\n",
      "Requirement already satisfied: requests<3,>=2.21.0 in c:\\programdata\\anaconda3\\lib\\site-packages (from tensorboard<2.16,>=2.15->tensorflow-intel==2.15.0->tensorflow) (2.29.0)\n",
      "Requirement already satisfied: tensorboard-data-server<0.8.0,>=0.7.0 in c:\\users\\hp\\appdata\\roaming\\python\\python311\\site-packages (from tensorboard<2.16,>=2.15->tensorflow-intel==2.15.0->tensorflow) (0.7.2)\n",
      "Requirement already satisfied: werkzeug>=1.0.1 in c:\\programdata\\anaconda3\\lib\\site-packages (from tensorboard<2.16,>=2.15->tensorflow-intel==2.15.0->tensorflow) (2.2.3)\n",
      "Requirement already satisfied: cachetools<6.0,>=2.0.0 in c:\\users\\hp\\appdata\\roaming\\python\\python311\\site-packages (from google-auth<3,>=1.6.3->tensorboard<2.16,>=2.15->tensorflow-intel==2.15.0->tensorflow) (5.3.2)\n",
      "Requirement already satisfied: pyasn1-modules>=0.2.1 in c:\\programdata\\anaconda3\\lib\\site-packages (from google-auth<3,>=1.6.3->tensorboard<2.16,>=2.15->tensorflow-intel==2.15.0->tensorflow) (0.2.8)\n",
      "Requirement already satisfied: rsa<5,>=3.1.4 in c:\\users\\hp\\appdata\\roaming\\python\\python311\\site-packages (from google-auth<3,>=1.6.3->tensorboard<2.16,>=2.15->tensorflow-intel==2.15.0->tensorflow) (4.9)\n",
      "Requirement already satisfied: requests-oauthlib>=0.7.0 in c:\\users\\hp\\appdata\\roaming\\python\\python311\\site-packages (from google-auth-oauthlib<2,>=0.5->tensorboard<2.16,>=2.15->tensorflow-intel==2.15.0->tensorflow) (1.3.1)\n",
      "Requirement already satisfied: charset-normalizer<4,>=2 in c:\\programdata\\anaconda3\\lib\\site-packages (from requests<3,>=2.21.0->tensorboard<2.16,>=2.15->tensorflow-intel==2.15.0->tensorflow) (2.0.4)\n",
      "Requirement already satisfied: idna<4,>=2.5 in c:\\programdata\\anaconda3\\lib\\site-packages (from requests<3,>=2.21.0->tensorboard<2.16,>=2.15->tensorflow-intel==2.15.0->tensorflow) (3.4)\n",
      "Requirement already satisfied: urllib3<1.27,>=1.21.1 in c:\\programdata\\anaconda3\\lib\\site-packages (from requests<3,>=2.21.0->tensorboard<2.16,>=2.15->tensorflow-intel==2.15.0->tensorflow) (1.26.16)\n",
      "Requirement already satisfied: certifi>=2017.4.17 in c:\\programdata\\anaconda3\\lib\\site-packages (from requests<3,>=2.21.0->tensorboard<2.16,>=2.15->tensorflow-intel==2.15.0->tensorflow) (2023.5.7)\n",
      "Requirement already satisfied: MarkupSafe>=2.1.1 in c:\\programdata\\anaconda3\\lib\\site-packages (from werkzeug>=1.0.1->tensorboard<2.16,>=2.15->tensorflow-intel==2.15.0->tensorflow) (2.1.1)\n",
      "Requirement already satisfied: pyasn1<0.5.0,>=0.4.6 in c:\\programdata\\anaconda3\\lib\\site-packages (from pyasn1-modules>=0.2.1->google-auth<3,>=1.6.3->tensorboard<2.16,>=2.15->tensorflow-intel==2.15.0->tensorflow) (0.4.8)\n",
      "Requirement already satisfied: oauthlib>=3.0.0 in c:\\users\\hp\\appdata\\roaming\\python\\python311\\site-packages (from requests-oauthlib>=0.7.0->google-auth-oauthlib<2,>=0.5->tensorboard<2.16,>=2.15->tensorflow-intel==2.15.0->tensorflow) (3.2.2)\n"
     ]
    }
   ],
   "source": [
    "#set up\n",
    "!pip install tensorflow "
   ]
  },
  {
   "cell_type": "code",
   "execution_count": 2,
   "id": "118ad49c",
   "metadata": {
    "collapsed": true
   },
   "outputs": [
    {
     "name": "stdout",
     "output_type": "stream",
     "text": [
      "Defaulting to user installation because normal site-packages is not writeable\n",
      "Requirement already satisfied: opencv-python in c:\\users\\hp\\appdata\\roaming\\python\\python311\\site-packages (4.8.1.78)\n",
      "Requirement already satisfied: matplotlib in c:\\programdata\\anaconda3\\lib\\site-packages (3.7.1)\n",
      "Requirement already satisfied: numpy>=1.21.2 in c:\\programdata\\anaconda3\\lib\\site-packages (from opencv-python) (1.24.3)\n",
      "Requirement already satisfied: contourpy>=1.0.1 in c:\\programdata\\anaconda3\\lib\\site-packages (from matplotlib) (1.0.5)\n",
      "Requirement already satisfied: cycler>=0.10 in c:\\programdata\\anaconda3\\lib\\site-packages (from matplotlib) (0.11.0)\n",
      "Requirement already satisfied: fonttools>=4.22.0 in c:\\programdata\\anaconda3\\lib\\site-packages (from matplotlib) (4.25.0)\n",
      "Requirement already satisfied: kiwisolver>=1.0.1 in c:\\programdata\\anaconda3\\lib\\site-packages (from matplotlib) (1.4.4)\n",
      "Requirement already satisfied: packaging>=20.0 in c:\\programdata\\anaconda3\\lib\\site-packages (from matplotlib) (23.0)\n",
      "Requirement already satisfied: pillow>=6.2.0 in c:\\programdata\\anaconda3\\lib\\site-packages (from matplotlib) (9.4.0)\n",
      "Requirement already satisfied: pyparsing>=2.3.1 in c:\\programdata\\anaconda3\\lib\\site-packages (from matplotlib) (3.0.9)\n",
      "Requirement already satisfied: python-dateutil>=2.7 in c:\\programdata\\anaconda3\\lib\\site-packages (from matplotlib) (2.8.2)\n",
      "Requirement already satisfied: six>=1.5 in c:\\programdata\\anaconda3\\lib\\site-packages (from python-dateutil>=2.7->matplotlib) (1.16.0)\n"
     ]
    }
   ],
   "source": [
    "!pip install opencv-python matplotlib"
   ]
  },
  {
   "cell_type": "code",
   "execution_count": 44,
   "id": "f75b02f0",
   "metadata": {},
   "outputs": [],
   "source": [
    "import cv2                                                                            #importing some standard dependencies\n",
    "import os\n",
    "import random\n",
    "import numpy as np\n",
    "from matplotlib import pyplot as plt"
   ]
  },
  {
   "cell_type": "code",
   "execution_count": 45,
   "id": "031e81ba",
   "metadata": {},
   "outputs": [],
   "source": [
    "from tensorflow.keras.models import Model                                            # importing tensorflow functional APIs\n",
    "from tensorflow.keras.layers import Layer, Conv2D, Dense, MaxPooling2D, Input, Flatten\n",
    "import tensorflow as tf"
   ]
  },
  {
   "cell_type": "code",
   "execution_count": 46,
   "id": "d62ac776",
   "metadata": {},
   "outputs": [],
   "source": [
    "# can set GPU for memory limit \n",
    "# now create folder in my venv and set path for that "
   ]
  },
  {
   "cell_type": "markdown",
   "id": "deb47455",
   "metadata": {},
   "source": [
    "### Create folder structure"
   ]
  },
  {
   "cell_type": "code",
   "execution_count": 47,
   "id": "4e75c468",
   "metadata": {},
   "outputs": [],
   "source": [
    "POS_PATH = os.path.join('data', 'positive')                                       #creating directory path only\n",
    "NEG_PATH = os.path.join('data', 'negetive')\n",
    "ANC_PATH = os.path.join('data', 'anchor')"
   ]
  },
  {
   "cell_type": "code",
   "execution_count": 11,
   "id": "6e143fac",
   "metadata": {},
   "outputs": [],
   "source": [
    "os.makedirs(POS_PATH)                                                            #making Directories now after path\n",
    "os.makedirs(NEG_PATH)\n",
    "os.makedirs(ANC_PATH)"
   ]
  },
  {
   "cell_type": "markdown",
   "id": "7f756e80",
   "metadata": {},
   "source": [
    "### Collect Positive and Anchor"
   ]
  },
  {
   "cell_type": "code",
   "execution_count": 11,
   "id": "3fdb5aa7",
   "metadata": {},
   "outputs": [],
   "source": [
    "#getting negetive data from- hhtps://vis-www.cs.umass.edu/lfw\n",
    "#as the file obtained in tgz file formate(zip folder hence compressed)\n",
    "\n",
    "                                                                                    #uncompress the tgz file\n",
    "!tar -xf lfw.tgz "
   ]
  },
  {
   "cell_type": "code",
   "execution_count": 12,
   "id": "43b35ce5",
   "metadata": {},
   "outputs": [],
   "source": [
    "for directory in os.listdir('lfw'):                           #move LFW image to negetive (data/negetive directory)\n",
    "    for file in os.listdir(os.path.join('lfw', directory)):\n",
    "        EX_PATH = os.path.join('lfw', directory, file)\n",
    "        NEW_PATH = os.path.join(NEG_PATH, file)\n",
    "        os.replace(EX_PATH, NEW_PATH)"
   ]
  },
  {
   "cell_type": "code",
   "execution_count": 48,
   "id": "9dcd1da4",
   "metadata": {},
   "outputs": [],
   "source": [
    "#import uuid to generate unique names\n",
    "import uuid                                 #universally unique identifiers"
   ]
  },
  {
   "cell_type": "code",
   "execution_count": 31,
   "id": "279b8b3f",
   "metadata": {},
   "outputs": [],
   "source": [
    "#accessing webcam and collecting Positive and anchor images\n",
    "#collecting images of same dimensions as of negetive \n",
    "\n",
    "cap = cv2.VideoCapture(0)                   #getting webcam for pictures\n",
    "\n",
    "while cap.isOpened():                          #looping for the frame\n",
    "    ret, frame = cap.read()                      #getting frame\n",
    "    frame[120:120+250, 200:200+250, :]            #resizing frame\n",
    "    \n",
    "    #collecting anchors\n",
    "    if cv2.waitKey(1) & 0XFF == ord('a'): \n",
    "        #creating unique path name\n",
    "        imgname = os.path.join(ANC_PATH, '{}.jpg'.format(uuid.uuid1()))\n",
    "        #write out anchor image\n",
    "        cv2.imwrite(imgname, frame)\n",
    "        \n",
    "    \n",
    "    #collecting positives    \n",
    "    if cv2.waitKey(1) & 0XFF == ord('p'):     #breaking connecting to webcam\n",
    "        #creating unique path name\n",
    "        imgname = os.path.join(POS_PATH, '{}.jpg'.format(uuid.uuid1()))\n",
    "        #write out anchor image\n",
    "        cv2.imwrite(imgname, frame)\n",
    "        \n",
    "    cv2.imshow('my frame', frame)               #showing frame captured\n",
    "    if cv2.waitKey(1) & 0XFF == ord('q'):     #breaking connecting to webcam\n",
    "        break\n",
    "\n",
    "cap.release()\n",
    "cv2.destroyAllWindows()"
   ]
  },
  {
   "cell_type": "markdown",
   "id": "8cbef618",
   "metadata": {},
   "source": [
    "### load images and preprocessing"
   ]
  },
  {
   "cell_type": "code",
   "execution_count": 49,
   "id": "7fa6d752",
   "metadata": {},
   "outputs": [],
   "source": [
    "#load and preprocessing of images\n",
    "#get image directories\n",
    "anchor = tf.data.Dataset.list_files(ANC_PATH+'\\*.jpg').take(300)\n",
    "positive = tf.data.Dataset.list_files(POS_PATH+'\\*.jpg').take(300)\n",
    "negetive = tf.data.Dataset.list_files(NEG_PATH+'\\*.jpg').take(300)"
   ]
  },
  {
   "cell_type": "markdown",
   "id": "31c5cf46",
   "metadata": {},
   "source": [
    "### Preprocessing - scale and resize"
   ]
  },
  {
   "cell_type": "code",
   "execution_count": 50,
   "id": "969a9adf",
   "metadata": {},
   "outputs": [],
   "source": [
    "def preprocess(file_path):\n",
    "    #read the image from file path\n",
    "    byte_img = tf.io.read_file(file_path)\n",
    "    #load in the image\n",
    "    img = tf.io.decode_jpeg(byte_img)\n",
    "    #resize the image means a kind of preprocessing\n",
    "    img = tf.image.resize(img, (100, 100))\n",
    "    #pixel range from 0 to 1 only\n",
    "    img = img/255\n",
    "    #returning the image\n",
    "    return img"
   ]
  },
  {
   "cell_type": "markdown",
   "id": "7195cdcf",
   "metadata": {},
   "source": [
    "### Create labelled dataset"
   ]
  },
  {
   "cell_type": "code",
   "execution_count": 51,
   "id": "91e0ab92",
   "metadata": {},
   "outputs": [],
   "source": [
    "#preprocessing the images \n",
    "#means scaling and resizing (converting to greyscale image)\n",
    "positives = tf.data.Dataset.zip((anchor, positive, tf.data.Dataset.from_tensor_slices(tf.ones(len(anchor)))))\n",
    "negetives = tf.data.Dataset.zip((anchor, negetive, tf.data.Dataset.from_tensor_slices(tf.zeros(len(anchor)))))\n",
    "data = positives.concatenate(negetives)"
   ]
  },
  {
   "cell_type": "code",
   "execution_count": 52,
   "id": "82ce93e1",
   "metadata": {},
   "outputs": [],
   "source": [
    "sample = data.as_numpy_iterator()"
   ]
  },
  {
   "cell_type": "code",
   "execution_count": 53,
   "id": "9da1f85c",
   "metadata": {},
   "outputs": [],
   "source": [
    "example = sample.next()"
   ]
  },
  {
   "cell_type": "code",
   "execution_count": 54,
   "id": "46269f27",
   "metadata": {},
   "outputs": [
    {
     "data": {
      "text/plain": [
       "(b'data\\\\anchor\\\\44b9fe00-a3d4-11ee-b9f7-b48c9d2e8144.jpg',\n",
       " b'data\\\\positive\\\\d9abd048-a3d4-11ee-8f79-b48c9d2e8144.jpg',\n",
       " 1.0)"
      ]
     },
     "execution_count": 54,
     "metadata": {},
     "output_type": "execute_result"
    }
   ],
   "source": [
    "example"
   ]
  },
  {
   "cell_type": "markdown",
   "id": "736095b6",
   "metadata": {},
   "source": [
    "### Build train and test partitions"
   ]
  },
  {
   "cell_type": "code",
   "execution_count": 55,
   "id": "374595a8",
   "metadata": {},
   "outputs": [],
   "source": [
    "def preprocessing_twin(input_img, validation_img, label):\n",
    "        return (preprocess(input_img), preprocess(validation_img), label)"
   ]
  },
  {
   "cell_type": "code",
   "execution_count": 56,
   "id": "671521e7",
   "metadata": {},
   "outputs": [],
   "source": [
    "res = preprocessing_twin(*example)"
   ]
  },
  {
   "cell_type": "code",
   "execution_count": 57,
   "id": "52c964ef",
   "metadata": {},
   "outputs": [
    {
     "data": {
      "text/plain": [
       "1.0"
      ]
     },
     "execution_count": 57,
     "metadata": {},
     "output_type": "execute_result"
    }
   ],
   "source": [
    "res[2]"
   ]
  },
  {
   "cell_type": "markdown",
   "id": "2abf360c",
   "metadata": {},
   "source": [
    "### Build data load pipeliner"
   ]
  },
  {
   "cell_type": "code",
   "execution_count": 58,
   "id": "49e47a0e",
   "metadata": {},
   "outputs": [],
   "source": [
    "data = data.map(preprocessing_twin)\n",
    "data = data.cache()\n",
    "data = data.shuffle(buffer_size=1024)"
   ]
  },
  {
   "cell_type": "code",
   "execution_count": 59,
   "id": "18ce1dca",
   "metadata": {},
   "outputs": [
    {
     "data": {
      "text/plain": [
       "<_ShuffleDataset element_spec=(TensorSpec(shape=(100, 100, None), dtype=tf.float32, name=None), TensorSpec(shape=(100, 100, None), dtype=tf.float32, name=None), TensorSpec(shape=(), dtype=tf.float32, name=None))>"
      ]
     },
     "execution_count": 59,
     "metadata": {},
     "output_type": "execute_result"
    }
   ],
   "source": [
    "data"
   ]
  },
  {
   "cell_type": "code",
   "execution_count": 60,
   "id": "2c9c4883",
   "metadata": {},
   "outputs": [],
   "source": [
    "samples = data.as_numpy_iterator()\n",
    "sam = samples.next()"
   ]
  },
  {
   "cell_type": "code",
   "execution_count": 61,
   "id": "2ce135e3",
   "metadata": {},
   "outputs": [
    {
     "data": {
      "text/plain": [
       "<matplotlib.image.AxesImage at 0x22316696250>"
      ]
     },
     "execution_count": 61,
     "metadata": {},
     "output_type": "execute_result"
    },
    {
     "data": {
      "image/png": "[encoded data removed]",
      "text/plain": [
       "<Figure size 640x480 with 1 Axes>"
      ]
     },
     "metadata": {},
     "output_type": "display_data"
    }
   ],
   "source": [
    "plt.imshow(sam[1])"
   ]
  },
  {
   "cell_type": "code",
   "execution_count": 62,
   "id": "b0deaf6b",
   "metadata": {},
   "outputs": [
    {
     "data": {
      "text/plain": [
       "1.0"
      ]
     },
     "execution_count": 62,
     "metadata": {},
     "output_type": "execute_result"
    }
   ],
   "source": [
    "sam[2]"
   ]
  },
  {
   "cell_type": "markdown",
   "id": "3e2ccc0b",
   "metadata": {},
   "source": [
    "### Training Partition"
   ]
  },
  {
   "cell_type": "code",
   "execution_count": 63,
   "id": "86e7b277",
   "metadata": {},
   "outputs": [],
   "source": [
    "train_data = data.take(round(len(data)*.7))\n",
    "train_data = train_data.batch(16)\n",
    "train_data = train_data.prefetch(8)"
   ]
  },
  {
   "cell_type": "code",
   "execution_count": 64,
   "id": "9417a951",
   "metadata": {},
   "outputs": [],
   "source": [
    "train_samples = train_data.as_numpy_iterator()"
   ]
  },
  {
   "cell_type": "code",
   "execution_count": 65,
   "id": "d5e38182",
   "metadata": {},
   "outputs": [],
   "source": [
    "train_sample = train_samples.next()"
   ]
  },
  {
   "cell_type": "code",
   "execution_count": 66,
   "id": "21da07be",
   "metadata": {},
   "outputs": [
    {
     "data": {
      "text/plain": [
       "16"
      ]
     },
     "execution_count": 66,
     "metadata": {},
     "output_type": "execute_result"
    }
   ],
   "source": [
    "len(train_sample[1])"
   ]
  },
  {
   "cell_type": "markdown",
   "id": "9e831c42",
   "metadata": {},
   "source": [
    "### Testing Partition"
   ]
  },
  {
   "cell_type": "code",
   "execution_count": 67,
   "id": "20a83583",
   "metadata": {},
   "outputs": [],
   "source": [
    "test_data = data.skip(round(len(data)*.7))\n",
    "test_data = test_data.take(round(len(data)*.3))\n",
    "test_data = test_data.batch(16)\n",
    "test_data = test_data.prefetch(8)"
   ]
  },
  {
   "cell_type": "markdown",
   "id": "35fa10bd",
   "metadata": {},
   "source": [
    "## Model Engineering"
   ]
  },
  {
   "cell_type": "markdown",
   "id": "91ce9e89",
   "metadata": {},
   "source": [
    "### Building Embedded layer"
   ]
  },
  {
   "cell_type": "code",
   "execution_count": 68,
   "id": "561440a2",
   "metadata": {},
   "outputs": [],
   "source": [
    "def make_embedding():\n",
    "    inp = Input(shape=(100,100,3), name = 'input_image')\n",
    "    #First Block\n",
    "    c1 = Conv2D(64, (10,10), activation='relu')(inp)\n",
    "    m1 = MaxPooling2D(64, (2,2), padding='same')(c1)\n",
    "    \n",
    "    #Second Block\n",
    "    c2 = Conv2D(128, (7,7), activation='relu')(m1)\n",
    "    m2 = MaxPooling2D(64, (2,2), padding='same')(c2)\n",
    "    \n",
    "    #Third Block\n",
    "    c3 = Conv2D(128, (4,4), activation='relu')(m2)\n",
    "    m3 = MaxPooling2D(64, (2,2), padding='same')(c3)\n",
    "    \n",
    "    #final embedding layer\n",
    "    c4 = Conv2D(256, (4,4), activation='relu')(m3)\n",
    "    f1 = Flatten()(c4)\n",
    "    d1 = Dense(4096, activation='sigmoid')(f1)\n",
    "    \n",
    "    return Model(inputs=[inp] , outputs=[d1], name='embedding')"
   ]
  },
  {
   "cell_type": "code",
   "execution_count": 69,
   "id": "f1b58230",
   "metadata": {},
   "outputs": [],
   "source": [
    "embedding = make_embedding()"
   ]
  },
  {
   "cell_type": "code",
   "execution_count": 70,
   "id": "ec521a5e",
   "metadata": {},
   "outputs": [
    {
     "name": "stdout",
     "output_type": "stream",
     "text": [
      "Model: \"embedding\"\n",
      "_________________________________________________________________\n",
      " Layer (type)                Output Shape              Param #   \n",
      "=================================================================\n",
      " input_image (InputLayer)    [(None, 100, 100, 3)]     0         \n",
      "                                                                 \n",
      " conv2d_4 (Conv2D)           (None, 91, 91, 64)        19264     \n",
      "                                                                 \n",
      " max_pooling2d_3 (MaxPoolin  (None, 46, 46, 64)        0         \n",
      " g2D)                                                            \n",
      "                                                                 \n",
      " conv2d_5 (Conv2D)           (None, 40, 40, 128)       401536    \n",
      "                                                                 \n",
      " max_pooling2d_4 (MaxPoolin  (None, 20, 20, 128)       0         \n",
      " g2D)                                                            \n",
      "                                                                 \n",
      " conv2d_6 (Conv2D)           (None, 17, 17, 128)       262272    \n",
      "                                                                 \n",
      " max_pooling2d_5 (MaxPoolin  (None, 9, 9, 128)         0         \n",
      " g2D)                                                            \n",
      "                                                                 \n",
      " conv2d_7 (Conv2D)           (None, 6, 6, 256)         524544    \n",
      "                                                                 \n",
      " flatten_1 (Flatten)         (None, 9216)              0         \n",
      "                                                                 \n",
      " dense_2 (Dense)             (None, 4096)              37752832  \n",
      "                                                                 \n",
      "=================================================================\n",
      "Total params: 38960448 (148.62 MB)\n",
      "Trainable params: 38960448 (148.62 MB)\n",
      "Non-trainable params: 0 (0.00 Byte)\n",
      "_________________________________________________________________\n"
     ]
    }
   ],
   "source": [
    "embedding.summary()"
   ]
  },
  {
   "cell_type": "markdown",
   "id": "ecbc5a1c",
   "metadata": {},
   "source": [
    "### Build distance layer"
   ]
  },
  {
   "cell_type": "code",
   "execution_count": 71,
   "id": "a7f7c07f",
   "metadata": {},
   "outputs": [],
   "source": [
    "#siamese L1 distance class\n",
    "class L1Dist(Layer):\n",
    "    \n",
    "    #__init__ method for inheritance\n",
    "    def __init__(self, **kwargs):\n",
    "        super().__init__()\n",
    "        \n",
    "    #this is where magic happens- similarity calculation\n",
    "    def call(self, input_embedding, validation_embedding):\n",
    "        return tf.math.abs(input_embedding-validation_embedding)"
   ]
  },
  {
   "cell_type": "code",
   "execution_count": 72,
   "id": "2f33afec",
   "metadata": {},
   "outputs": [],
   "source": [
    "l1 = L1Dist()"
   ]
  },
  {
   "cell_type": "markdown",
   "id": "f46c6891",
   "metadata": {},
   "source": [
    "### Make Siamese Model"
   ]
  },
  {
   "cell_type": "code",
   "execution_count": 73,
   "id": "9ba71e9a",
   "metadata": {},
   "outputs": [],
   "source": [
    "def make_siamese_model():\n",
    "    #Anchor image input in the network\n",
    "    input_image = Input(name= 'input_img', shape=(100, 100, 3))\n",
    "    \n",
    "    #Validation image input in the network\n",
    "    validation_image = Input(name = 'validation_img', shape=(100, 100, 3))\n",
    "    \n",
    "    #Commbine siamese distance components\n",
    "    siamese_layer = L1Dist()\n",
    "    siamese_layer._name = 'distance'\n",
    "    distances = siamese_layer(embedding(input_image), embedding(validation_image)) \n",
    "    \n",
    "    #Classification layer\n",
    "    classifier = Dense(1, activation='sigmoid')(distances)\n",
    "    \n",
    "    return Model(inputs = [input_image, validation_image], outputs = classifier, name = 'SiameseNetwork')"
   ]
  },
  {
   "cell_type": "code",
   "execution_count": 74,
   "id": "103b2323",
   "metadata": {},
   "outputs": [
    {
     "name": "stdout",
     "output_type": "stream",
     "text": [
      "Model: \"SiameseNetwork\"\n",
      "__________________________________________________________________________________________________\n",
      " Layer (type)                Output Shape                 Param #   Connected to                  \n",
      "==================================================================================================\n",
      " input_img (InputLayer)      [(None, 100, 100, 3)]        0         []                            \n",
      "                                                                                                  \n",
      " validation_img (InputLayer  [(None, 100, 100, 3)]        0         []                            \n",
      " )                                                                                                \n",
      "                                                                                                  \n",
      " embedding (Functional)      (None, 4096)                 3896044   ['input_img[0][0]',           \n",
      "                                                          8          'validation_img[0][0]']      \n",
      "                                                                                                  \n",
      " distance (L1Dist)           (None, 4096)                 0         ['embedding[0][0]',           \n",
      "                                                                     'embedding[1][0]']           \n",
      "                                                                                                  \n",
      " dense_3 (Dense)             (None, 1)                    4097      ['distance[0][0]']            \n",
      "                                                                                                  \n",
      "==================================================================================================\n",
      "Total params: 38964545 (148.64 MB)\n",
      "Trainable params: 38964545 (148.64 MB)\n",
      "Non-trainable params: 0 (0.00 Byte)\n",
      "__________________________________________________________________________________________________\n"
     ]
    }
   ],
   "source": [
    "siamese_model = make_siamese_model()\n",
    "siamese_model.summary()"
   ]
  },
  {
   "cell_type": "markdown",
   "id": "fedaf219",
   "metadata": {},
   "source": [
    "## Training"
   ]
  },
  {
   "cell_type": "markdown",
   "id": "6c467177",
   "metadata": {},
   "source": [
    "### set up loss and Optimiser"
   ]
  },
  {
   "cell_type": "code",
   "execution_count": 75,
   "id": "4543b6ac",
   "metadata": {},
   "outputs": [],
   "source": [
    "binary_cross_loss = tf.losses.BinaryCrossentropy()"
   ]
  },
  {
   "cell_type": "code",
   "execution_count": 76,
   "id": "049631f0",
   "metadata": {},
   "outputs": [],
   "source": [
    "opt = tf.keras.optimizers.Adam(1e-4)"
   ]
  },
  {
   "cell_type": "markdown",
   "id": "df49892f",
   "metadata": {},
   "source": [
    "### Establish Checkpoints"
   ]
  },
  {
   "cell_type": "code",
   "execution_count": 77,
   "id": "a81817b6",
   "metadata": {},
   "outputs": [],
   "source": [
    "checkpoints_dirs = './training_checkpoints'\n",
    "checkpoint_prefix = os.path.join(checkpoints_dirs, 'ckpt')\n",
    "checkpoint = tf.train.Checkpoint(opt = opt, siamese_model = siamese_model)"
   ]
  },
  {
   "cell_type": "markdown",
   "id": "09568df4",
   "metadata": {},
   "source": [
    "### Build train step function"
   ]
  },
  {
   "cell_type": "code",
   "execution_count": 78,
   "id": "0785c2c1",
   "metadata": {},
   "outputs": [],
   "source": [
    "@tf.function\n",
    "def train_step(batch):\n",
    "    with tf.GradientTape() as tape:\n",
    "        #Get anchor and Positive /negetive images\n",
    "        X = batch[:2]\n",
    "        #Get label\n",
    "        Y = batch[2]\n",
    "\n",
    "        #forward path\n",
    "        yhat = siamese_model(X, training = True)\n",
    "\n",
    "        #calculate loss\n",
    "        loss = binary_cross_loss(Y, yhat)\n",
    "        \n",
    "        print(loss)\n",
    "    #calculate gradients\n",
    "    grad = tape.gradient(loss, siamese_model.trainable_variables)\n",
    "    \n",
    "    #calculate update weights and apply to siamese model\n",
    "    opt.apply_gradients(zip(grad, siamese_model.trainable_variables))\n",
    "    return loss"
   ]
  },
  {
   "cell_type": "markdown",
   "id": "97484f3e",
   "metadata": {},
   "source": [
    "### Building training loop"
   ]
  },
  {
   "cell_type": "code",
   "execution_count": 79,
   "id": "c0e51a3e",
   "metadata": {},
   "outputs": [],
   "source": [
    "def train(data, EPOCHS):\n",
    "    #loop through EPOCHS\n",
    "    for epoch in range(1,  EPOCHS+1):\n",
    "        print('\\n Epoch {}/{}'.format(epoch, EPOCHS))\n",
    "        progbar = tf.keras.utils.Progbar(len(data))\n",
    "        \n",
    "        #loop through each batch\n",
    "        for idx, batch in enumerate(data):\n",
    "            #run train_step here\n",
    "            train_step(batch)\n",
    "            progbar.update(idx+1)\n",
    "            \n",
    "        #save checkpoints\n",
    "        if epoch % 10 == 0 :\n",
    "            checkpoint.save(file_prefix= checkpoint_prefix)\n",
    "            "
   ]
  },
  {
   "cell_type": "code",
   "execution_count": 80,
   "id": "e48edb72",
   "metadata": {},
   "outputs": [],
   "source": [
    "EPOCHS = 50"
   ]
  },
  {
   "cell_type": "code",
   "execution_count": 85,
   "id": "455ae5f5",
   "metadata": {},
   "outputs": [
    {
     "name": "stdout",
     "output_type": "stream",
     "text": [
      "\n",
      " Epoch 1/50\n",
      "Tensor(\"binary_crossentropy/weighted_loss/value:0\", shape=(), dtype=float32)\n",
      "Tensor(\"binary_crossentropy/weighted_loss/value:0\", shape=(), dtype=float32)\n",
      "15/16 [===========================>..] - ETA: 2sTensor(\"binary_crossentropy/weighted_loss/value:0\", shape=(), dtype=float32)\n",
      "16/16 [==============================] - 39s 2s/step\n",
      "\n",
      " Epoch 2/50\n",
      "16/16 [==============================] - 39s 2s/step\n",
      "\n",
      " Epoch 3/50\n",
      "16/16 [==============================] - 38s 2s/step\n",
      "\n",
      " Epoch 4/50\n",
      "16/16 [==============================] - 39s 2s/step\n",
      "\n",
      " Epoch 5/50\n",
      "16/16 [==============================] - 44s 3s/step\n",
      "\n",
      " Epoch 6/50\n",
      "16/16 [==============================] - 41s 3s/step\n",
      "\n",
      " Epoch 7/50\n",
      "16/16 [==============================] - 47s 3s/step\n",
      "\n",
      " Epoch 8/50\n",
      "16/16 [==============================] - 45s 3s/step\n",
      "\n",
      " Epoch 9/50\n",
      "16/16 [==============================] - 48s 3s/step\n",
      "\n",
      " Epoch 10/50\n",
      "16/16 [==============================] - 46s 3s/step\n",
      "\n",
      " Epoch 11/50\n",
      "16/16 [==============================] - 45s 3s/step\n",
      "\n",
      " Epoch 12/50\n",
      "16/16 [==============================] - 44s 3s/step\n",
      "\n",
      " Epoch 13/50\n",
      "16/16 [==============================] - 46s 3s/step\n",
      "\n",
      " Epoch 14/50\n",
      "16/16 [==============================] - 45s 3s/step\n",
      "\n",
      " Epoch 15/50\n",
      "16/16 [==============================] - 45s 3s/step\n",
      "\n",
      " Epoch 16/50\n",
      "16/16 [==============================] - 44s 3s/step\n",
      "\n",
      " Epoch 17/50\n",
      "16/16 [==============================] - 44s 3s/step\n",
      "\n",
      " Epoch 18/50\n",
      "16/16 [==============================] - 44s 3s/step\n",
      "\n",
      " Epoch 19/50\n",
      "16/16 [==============================] - 44s 3s/step\n",
      "\n",
      " Epoch 20/50\n",
      "16/16 [==============================] - 44s 3s/step\n",
      "\n",
      " Epoch 21/50\n",
      "16/16 [==============================] - 44s 3s/step\n",
      "\n",
      " Epoch 22/50\n",
      "16/16 [==============================] - 44s 3s/step\n",
      "\n",
      " Epoch 23/50\n",
      "16/16 [==============================] - 44s 3s/step\n",
      "\n",
      " Epoch 24/50\n",
      "16/16 [==============================] - 44s 3s/step\n",
      "\n",
      " Epoch 25/50\n",
      "16/16 [==============================] - 50s 3s/step\n",
      "\n",
      " Epoch 26/50\n",
      "16/16 [==============================] - 44s 3s/step\n",
      "\n",
      " Epoch 27/50\n",
      "16/16 [==============================] - 44s 3s/step\n",
      "\n",
      " Epoch 28/50\n",
      "16/16 [==============================] - 43s 3s/step\n",
      "\n",
      " Epoch 29/50\n",
      "16/16 [==============================] - 44s 3s/step\n",
      "\n",
      " Epoch 30/50\n",
      "16/16 [==============================] - 43s 3s/step\n",
      "\n",
      " Epoch 31/50\n",
      "16/16 [==============================] - 44s 3s/step\n",
      "\n",
      " Epoch 32/50\n",
      "16/16 [==============================] - 43s 3s/step\n",
      "\n",
      " Epoch 33/50\n",
      "16/16 [==============================] - 44s 3s/step\n",
      "\n",
      " Epoch 34/50\n",
      "16/16 [==============================] - 44s 3s/step\n",
      "\n",
      " Epoch 35/50\n",
      "16/16 [==============================] - 43s 3s/step\n",
      "\n",
      " Epoch 36/50\n",
      "16/16 [==============================] - 44s 3s/step\n",
      "\n",
      " Epoch 37/50\n",
      "16/16 [==============================] - 44s 3s/step\n",
      "\n",
      " Epoch 38/50\n",
      "16/16 [==============================] - 44s 3s/step\n",
      "\n",
      " Epoch 39/50\n",
      "16/16 [==============================] - 43s 3s/step\n",
      "\n",
      " Epoch 40/50\n",
      "16/16 [==============================] - 44s 3s/step\n",
      "\n",
      " Epoch 41/50\n",
      "16/16 [==============================] - 44s 3s/step\n",
      "\n",
      " Epoch 42/50\n",
      "16/16 [==============================] - 44s 3s/step\n",
      "\n",
      " Epoch 43/50\n",
      "16/16 [==============================] - 44s 3s/step\n",
      "\n",
      " Epoch 44/50\n",
      "16/16 [==============================] - 43s 3s/step\n",
      "\n",
      " Epoch 45/50\n",
      "16/16 [==============================] - 43s 3s/step\n",
      "\n",
      " Epoch 46/50\n",
      "16/16 [==============================] - 43s 3s/step\n",
      "\n",
      " Epoch 47/50\n",
      "16/16 [==============================] - 43s 3s/step\n",
      "\n",
      " Epoch 48/50\n",
      "16/16 [==============================] - 44s 3s/step\n",
      "\n",
      " Epoch 49/50\n",
      "16/16 [==============================] - 43s 3s/step\n",
      "\n",
      " Epoch 50/50\n",
      "16/16 [==============================] - 44s 3s/step\n"
     ]
    }
   ],
   "source": [
    "train(train_data, EPOCHS)"
   ]
  },
  {
   "cell_type": "markdown",
   "id": "e5de45d8",
   "metadata": {},
   "source": [
    "### Evaluate Model"
   ]
  },
  {
   "cell_type": "markdown",
   "id": "06ce5583",
   "metadata": {},
   "source": [
    "#### Import Metrices"
   ]
  },
  {
   "cell_type": "code",
   "execution_count": 86,
   "id": "3d67c2b3",
   "metadata": {},
   "outputs": [],
   "source": [
    "#import matrix calculation\n",
    "from tensorflow.keras.metrics import Precision, Recall"
   ]
  },
  {
   "cell_type": "markdown",
   "id": "bce9e6d3",
   "metadata": {},
   "source": [
    "##### Make predection"
   ]
  },
  {
   "cell_type": "code",
   "execution_count": 87,
   "id": "f20f6f36",
   "metadata": {},
   "outputs": [],
   "source": [
    "# get a batch of test data\n",
    "test_input, test_val, y_true = test_data.as_numpy_iterator().next()"
   ]
  },
  {
   "cell_type": "code",
   "execution_count": 88,
   "id": "5f0ae983",
   "metadata": {},
   "outputs": [
    {
     "name": "stdout",
     "output_type": "stream",
     "text": [
      "1/1 [==============================] - 1s 656ms/step\n"
     ]
    }
   ],
   "source": [
    "y_hat = siamese_model.predict([test_input, test_val])"
   ]
  },
  {
   "cell_type": "code",
   "execution_count": 89,
   "id": "baf94ef8",
   "metadata": {},
   "outputs": [
    {
     "data": {
      "text/plain": [
       "array([[4.0687164e-06],\n",
       "       [9.9945098e-01],\n",
       "       [4.5187330e-12],\n",
       "       [1.0000000e+00],\n",
       "       [3.8703124e-07],\n",
       "       [4.6213823e-05],\n",
       "       [9.9993712e-01],\n",
       "       [1.0000000e+00],\n",
       "       [9.9998766e-01],\n",
       "       [9.9979001e-01],\n",
       "       [9.9999881e-01],\n",
       "       [5.4461960e-08],\n",
       "       [4.4306617e-10],\n",
       "       [1.0000000e+00],\n",
       "       [9.9997538e-01],\n",
       "       [9.9991858e-01]], dtype=float32)"
      ]
     },
     "execution_count": 89,
     "metadata": {},
     "output_type": "execute_result"
    }
   ],
   "source": [
    "y_hat"
   ]
  },
  {
   "cell_type": "code",
   "execution_count": 90,
   "id": "cb29c367",
   "metadata": {},
   "outputs": [
    {
     "data": {
      "text/plain": [
       "[0, 1, 0, 1, 0, 0, 1, 1, 1, 1, 1, 0, 0, 1, 1, 1]"
      ]
     },
     "execution_count": 90,
     "metadata": {},
     "output_type": "execute_result"
    }
   ],
   "source": [
    "#post processing the result\n",
    "[1 if prediction > 0.5 else 0 for prediction in y_hat]"
   ]
  },
  {
   "cell_type": "code",
   "execution_count": 91,
   "id": "9930a9d8",
   "metadata": {},
   "outputs": [
    {
     "data": {
      "text/plain": [
       "array([0., 1., 0., 1., 0., 0., 1., 1., 1., 1., 1., 0., 0., 1., 1., 1.],\n",
       "      dtype=float32)"
      ]
     },
     "execution_count": 91,
     "metadata": {},
     "output_type": "execute_result"
    }
   ],
   "source": [
    "y_true"
   ]
  },
  {
   "cell_type": "markdown",
   "id": "b158b472",
   "metadata": {},
   "source": [
    "#### Calculate Matrices"
   ]
  },
  {
   "cell_type": "code",
   "execution_count": 92,
   "id": "d7f5d7a0",
   "metadata": {},
   "outputs": [
    {
     "data": {
      "text/plain": [
       "1.0"
      ]
     },
     "execution_count": 92,
     "metadata": {},
     "output_type": "execute_result"
    }
   ],
   "source": [
    "#create a matrix object\n",
    "m= Precision()\n",
    "\n",
    "#Calculating the recall valur\n",
    "m.update_state(y_true, y_hat)\n",
    "\n",
    "#return recall result\n",
    "m.result().numpy()"
   ]
  },
  {
   "cell_type": "code",
   "execution_count": 93,
   "id": "9c232904",
   "metadata": {},
   "outputs": [
    {
     "data": {
      "text/plain": [
       "1.0"
      ]
     },
     "execution_count": 93,
     "metadata": {},
     "output_type": "execute_result"
    }
   ],
   "source": [
    "#create a matrix object\n",
    "m= Recall()\n",
    "\n",
    "#Calculating the recall valur\n",
    "m.update_state(y_true, y_hat)\n",
    "\n",
    "#return recall result\n",
    "m.result().numpy()"
   ]
  },
  {
   "cell_type": "markdown",
   "id": "1563f4e2",
   "metadata": {},
   "source": [
    "#### Viz Result"
   ]
  },
  {
   "cell_type": "code",
   "execution_count": 94,
   "id": "6390ac31",
   "metadata": {},
   "outputs": [
    {
     "data": {
      "text/plain": [
       "<matplotlib.image.AxesImage at 0x2231716fe50>"
      ]
     },
     "execution_count": 94,
     "metadata": {},
     "output_type": "execute_result"
    },
    {
     "data": {
      "image/png": "[encoded data removed]",
      "text/plain": [
       "<Figure size 1000x800 with 2 Axes>"
      ]
     },
     "metadata": {},
     "output_type": "display_data"
    }
   ],
   "source": [
    "plt.figure(figsize=(10,8))\n",
    "plt.subplot(1,2,1)\n",
    "plt.imshow(test_input[7])\n",
    "plt.subplot(1,2,2)\n",
    "plt.imshow(test_val[7])"
   ]
  },
  {
   "cell_type": "code",
   "execution_count": 190,
   "id": "07193830",
   "metadata": {},
   "outputs": [
    {
     "data": {
      "text/plain": [
       "[0, 0, 1, 0, 0, 1, 0, 1, 1, 1, 0, 0, 1, 1, 0, 1]"
      ]
     },
     "execution_count": 190,
     "metadata": {},
     "output_type": "execute_result"
    }
   ],
   "source": [
    "[1 if prediction > 0.5 else 0 for prediction in y_hat]"
   ]
  },
  {
   "cell_type": "code",
   "execution_count": null,
   "id": "801f858b",
   "metadata": {},
   "outputs": [],
   "source": []
  }
 ],
 "metadata": {
  "kernelspec": {
   "display_name": "Python 3 (ipykernel)",
   "language": "python",
   "name": "python3"
  },
  "language_info": {
   "codemirror_mode": {
    "name": "ipython",
    "version": 3
   },
   "file_extension": ".py",
   "mimetype": "text/x-python",
   "name": "python",
   "nbconvert_exporter": "python",
   "pygments_lexer": "ipython3",
   "version": "3.11.3"
  }
 },
 "nbformat": 4,
 "nbformat_minor": 5
}
